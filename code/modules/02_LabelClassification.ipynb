{
  "nbformat": 4,
  "nbformat_minor": 0,
  "metadata": {
    "colab": {
      "provenance": [],
      "authorship_tag": "ABX9TyMesDZiKQqYgEmi/EUua/Y0",
      "include_colab_link": true
    },
    "kernelspec": {
      "name": "python3",
      "display_name": "Python 3"
    },
    "language_info": {
      "name": "python"
    }
  },
  "cells": [
    {
      "cell_type": "markdown",
      "metadata": {
        "id": "view-in-github",
        "colab_type": "text"
      },
      "source": [
        "<a href=\"https://colab.research.google.com/github/kunalsonalkar/Github-Intro/blob/master/code/modules/02_LabelClassification.ipynb\" target=\"_parent\"><img src=\"https://colab.research.google.com/assets/colab-badge.svg\" alt=\"Open In Colab\"/></a>"
      ]
    },
    {
      "cell_type": "markdown",
      "source": [
        "**Load the ground truth dataset**"
      ],
      "metadata": {
        "id": "mYCd4A4QtJ-G"
      }
    },
    {
      "cell_type": "code",
      "source": [
        "import pandas as pd\n",
        "\n",
        "ground_truth_df = pd.read_excel('/content/full_batch01_groundtruth_20k.xlsx')"
      ],
      "metadata": {
        "id": "8kykm1rzqvrG"
      },
      "execution_count": 2,
      "outputs": []
    },
    {
      "cell_type": "markdown",
      "source": [
        "**Load the images**"
      ],
      "metadata": {
        "id": "bXGEX8c11sX5"
      }
    },
    {
      "cell_type": "code",
      "source": [
        "from google.colab import drive\n",
        "drive.mount('/content/drive')\n",
        "\n",
        "import zipfile\n",
        "import os\n",
        "\n",
        "# Specify the path to your zip file\n",
        "zip_file_path = '/content/drive/MyDrive/images.zip'  # Adjust this path\n",
        "extract_folder = '/content/images'  # Folder where you want to extract images\n",
        "\n",
        "# Create a directory for extracted images if it doesn't exist\n",
        "os.makedirs(extract_folder, exist_ok=True)\n",
        "\n",
        "# Unzip the file\n",
        "with zipfile.ZipFile(zip_file_path, 'r') as zip_ref:\n",
        "    zip_ref.extractall(extract_folder)"
      ],
      "metadata": {
        "colab": {
          "base_uri": "https://localhost:8080/"
        },
        "id": "haiwSDhi1w5l",
        "outputId": "bdd32844-4889-429b-8839-d04ec39bf4d2"
      },
      "execution_count": 3,
      "outputs": [
        {
          "output_type": "stream",
          "name": "stdout",
          "text": [
            "Mounted at /content/drive\n"
          ]
        }
      ]
    },
    {
      "cell_type": "markdown",
      "source": [
        "**Sample the data. Use the Random Seed for replicable results**"
      ],
      "metadata": {
        "id": "fLaw02MBCstR"
      }
    },
    {
      "cell_type": "code",
      "source": [
        "import pandas as pd\n",
        "\n",
        "product_types = ground_truth_df['product_category'].unique()\n",
        "total_samples = 2000\n",
        "num_product_types = len(product_types)\n",
        "\n",
        "# Calculate the number of samples per product type\n",
        "samples_per_type = total_samples // num_product_types\n",
        "remainder = total_samples % num_product_types\n",
        "\n",
        "# Set a random seed for reproducibility\n",
        "RANDOM_SEED = 42\n",
        "\n",
        "# Sample the DataFrame\n",
        "sample_df = pd.DataFrame()\n",
        "for i, product_type in enumerate(product_types):\n",
        "    product_df = ground_truth_df[ground_truth_df['product_category'] == product_type]\n",
        "    sample_size = samples_per_type + (1 if i < remainder else 0)\n",
        "    sample_df = pd.concat([\n",
        "        sample_df,\n",
        "        product_df.sample(\n",
        "            n=min(sample_size, len(product_df)),\n",
        "            random_state=RANDOM_SEED  # Ensures replicability\n",
        "        )\n",
        "    ], ignore_index=True)"
      ],
      "metadata": {
        "id": "JFsqCey6b_Tl"
      },
      "execution_count": 4,
      "outputs": []
    },
    {
      "cell_type": "code",
      "source": [
        "import os\n",
        "import shutil\n",
        "\n",
        "# Define the source and destination directories\n",
        "source_dir = '/content/images/images'\n",
        "destination_dir = '/content/images/sample_images'\n",
        "\n",
        "# Ensure the destination directory exists\n",
        "if not os.path.exists(destination_dir):\n",
        "    os.makedirs(destination_dir)\n",
        "\n",
        "# Move the images\n",
        "for filename in sample_df['filename']:\n",
        "    source_path = os.path.join(source_dir, filename)\n",
        "    destination_path = os.path.join(destination_dir, filename)\n",
        "\n",
        "    # Check if the file exists\n",
        "    if os.path.isfile(source_path):\n",
        "        try:\n",
        "            # Move the file to the destination directory\n",
        "            shutil.move(source_path, destination_path)\n",
        "            #print(f\"Moved {filename} to {destination_dir}\")\n",
        "        except Exception as e:\n",
        "            print(f\"Failed to move {filename}: {e}\")"
      ],
      "metadata": {
        "id": "6G-YW1okw_vb"
      },
      "execution_count": 5,
      "outputs": []
    },
    {
      "cell_type": "markdown",
      "source": [
        "**Load the prompt - Uplaoded in the Repo**"
      ],
      "metadata": {
        "id": "_tq0qekUa4sQ"
      }
    },
    {
      "cell_type": "code",
      "source": [
        "with open('/content/combined_prompt.txt', 'r') as file:\n",
        "    prompt_content = file.read().strip()"
      ],
      "metadata": {
        "id": "65eitbTVgK9q"
      },
      "execution_count": 6,
      "outputs": []
    },
    {
      "cell_type": "code",
      "source": [
        "import requests\n",
        "import json\n",
        "from PIL import Image\n",
        "from io import BytesIO\n",
        "from google.colab import userdata\n",
        "import base64"
      ],
      "metadata": {
        "id": "9ScC74kkigDj"
      },
      "execution_count": 7,
      "outputs": []
    },
    {
      "cell_type": "markdown",
      "source": [
        "\n",
        "\n",
        "**Encode Image and VLM Response**"
      ],
      "metadata": {
        "id": "IB3L4XLTa-e1"
      }
    },
    {
      "cell_type": "code",
      "source": [
        "def encode_image(image_path, max_image=512):\n",
        "  with Image.open(image_path) as img:\n",
        "    width, height = img.size\n",
        "    max_dim = max(width, height)\n",
        "    if max_dim > max_image:\n",
        "      scale_factor = max_image / max_dim\n",
        "      new_width = int(width * scale_factor)\n",
        "      new_height = int(height * scale_factor)\n",
        "      img = img.resize((new_width, new_height))\n",
        "    buffered = BytesIO()\n",
        "    img.save(buffered, format=\"PNG\")\n",
        "    img_str = base64.b64encode(buffered.getvalue()).decode('utf-8')\n",
        "\n",
        "    return img_str"
      ],
      "metadata": {
        "id": "AsT2kFMVijzP"
      },
      "execution_count": 8,
      "outputs": []
    },
    {
      "cell_type": "markdown",
      "source": [
        "**Response from OpenRouter**"
      ],
      "metadata": {
        "id": "pzSEKa7zWIY4"
      }
    },
    {
      "cell_type": "code",
      "source": [
        "def get_vlm_response(text_prompt, img_encoded_string, model_name):\n",
        "  response = requests.post(\n",
        "      url=\"https://openrouter.ai/api/v1/chat/completions\",\n",
        "      headers={\n",
        "          \"Authorization\": f\"Bearer {userdata.get('OPENROUTER_API_KEY')}\",\n",
        "          \"HTTP-Referer\": \"\",\n",
        "          \"X-Title\": \"\",\n",
        "      },\n",
        "      data=json.dumps({\n",
        "          \"model\": model_name,  # Now using parameter value\n",
        "          \"messages\": [\n",
        "              {\n",
        "                  \"role\": \"user\",\n",
        "                  \"content\": [\n",
        "                      {\n",
        "                          \"type\": \"text\",\n",
        "                          \"text\": text_prompt\n",
        "                      },\n",
        "                      {\n",
        "                          \"type\": \"image_url\",\n",
        "                          \"image_url\": {\"url\": f\"data:image/jpeg;base64,{img_encoded_string}\"}\n",
        "                      }\n",
        "                  ]\n",
        "              }\n",
        "          ]\n",
        "      })\n",
        "  )\n",
        "  return response"
      ],
      "metadata": {
        "id": "aq01d8YSil-r"
      },
      "execution_count": 9,
      "outputs": []
    },
    {
      "cell_type": "code",
      "source": [
        "def process_image_folder_to_dataframe(folder_path, text_prompt, model_name, image_range=(0, 10), max_image_size=512):\n",
        "    \"\"\"\n",
        "    Process a specified range of images in a folder and get VLM responses, returning results in a DataFrame.\n",
        "\n",
        "    Args:\n",
        "        folder_path: Path to directory containing images\n",
        "        text_prompt: Question/prompt for the vision model\n",
        "        image_range: Tuple specifying the start and end indices for slicing (default: (0, 10))\n",
        "        max_image_size: Maximum dimension for resizing (default: 512)\n",
        "        model_name: VLM model identifier (default: 'google/gemini-2.5-pro-exp-03-25:free')\n",
        "\n",
        "    Returns:\n",
        "        Pandas DataFrame with columns 'Image Name' and 'Model Response'\n",
        "    \"\"\"\n",
        "    responses = []\n",
        "    valid_extensions = {'.png', '.jpg', '.jpeg', '.webp', '.gif'}\n",
        "\n",
        "    # Get sorted list of image files in the folder\n",
        "    all_files = sorted([f for f in os.listdir(folder_path) if os.path.splitext(f)[1].lower() in valid_extensions])\n",
        "\n",
        "    # Apply slicing to select the desired range of files\n",
        "    selected_files = all_files[image_range[0]:image_range[1]]\n",
        "\n",
        "    for filename in selected_files:\n",
        "        file_path = os.path.join(folder_path, filename)\n",
        "\n",
        "        try:\n",
        "            img_str = encode_image(file_path, max_image_size)\n",
        "            response = get_vlm_response(text_prompt, img_str, model_name)\n",
        "            responses.append({\"image_file\": filename, \"predictions\": response.json()})\n",
        "\n",
        "        except Exception as e:\n",
        "            responses.append({\"image_file\": filename, \"predictions\": f\"Error processing {filename}: {str(e)}\"})\n",
        "\n",
        "    # Convert list of dictionaries to DataFrame\n",
        "    return pd.DataFrame(responses)"
      ],
      "metadata": {
        "id": "I5IGCKttipdw"
      },
      "execution_count": 11,
      "outputs": []
    },
    {
      "cell_type": "code",
      "source": [
        "import pandas as pd\n",
        "\n",
        "results_df = pd.DataFrame()\n",
        "\n",
        "#total_images = len([entry for entry in os.listdir(sample_folder) if os.path.isfile(os.path.join(sample_folder, entry))])  # images in sample folder\n",
        "total_images = 50\n",
        "for i in range(1, total_images + 1, 100):\n",
        "    start = i\n",
        "    end = min(i + 99, total_images)\n",
        "    batch_df = process_image_folder_to_dataframe(\n",
        "        \"/content/images/sample_images\",\n",
        "        prompt_content,\n",
        "        model_name=\"google/gemini-2.0-flash-001\",\n",
        "        image_range=(start, end)\n",
        "    )\n",
        "    results_df = pd.concat([results_df, batch_df], ignore_index=True)"
      ],
      "metadata": {
        "id": "J0HQ0L_uRtB5"
      },
      "execution_count": 20,
      "outputs": []
    },
    {
      "cell_type": "markdown",
      "source": [
        "**Model Responses & Evaluation**"
      ],
      "metadata": {
        "id": "137mdfjj_lCV"
      }
    },
    {
      "cell_type": "code",
      "source": [
        "import json\n",
        "\n",
        "results_df['model_response'] = results_df['predictions'].apply(\n",
        "    lambda x: x['choices'][0]['message']['content'] if isinstance(x, dict) and 'choices' in x else None\n",
        ")"
      ],
      "metadata": {
        "id": "kxMdeuNx539x"
      },
      "execution_count": 23,
      "outputs": []
    },
    {
      "cell_type": "code",
      "source": [
        "import re\n",
        "import pandas as pd\n",
        "\n",
        "def extract_labels(labels):\n",
        "    # Check if labels is None, return default values if so\n",
        "    if labels is None:\n",
        "        return pd.Series({\n",
        "            \"Shape Pattern Label\": None,\n",
        "            \"Color Pattern Label\": None,\n",
        "            \"Fabric Type Label\": None\n",
        "        })\n",
        "\n",
        "    # Find all occurrences of patterns enclosed in square brackets\n",
        "    patterns = re.findall(r'\\[(.*?)\\]', labels)\n",
        "\n",
        "    # Clean up the extracted patterns\n",
        "    def clean_pattern(s):\n",
        "        return s.strip('[] ').replace(' ', '')\n",
        "\n",
        "    # Initialize default values\n",
        "    shape_pattern = color_pattern = fabric_type = None\n",
        "\n",
        "    # Extract patterns if available\n",
        "    if len(patterns) >= 1:\n",
        "        shape_pattern = clean_pattern(patterns[0])\n",
        "    if len(patterns) >= 2:\n",
        "        color_pattern = clean_pattern(patterns[1])\n",
        "    if len(patterns) >= 3:\n",
        "        fabric_type = clean_pattern(patterns[2])\n",
        "\n",
        "    return pd.Series({\n",
        "        \"Shape Pattern Label\": shape_pattern,\n",
        "        \"Color Pattern Label\": color_pattern,\n",
        "        \"Fabric Type Label\": fabric_type\n",
        "    })\n",
        "\n",
        "# Apply the function while handling NoneType inputs\n",
        "results_df[[\"Shape Pattern Label\", \"Color Pattern Label\", \"Fabric Type Label\"]] = results_df['model_response'].apply(lambda x: extract_labels(x))"
      ],
      "metadata": {
        "id": "-I2zmndbFQW1"
      },
      "execution_count": 24,
      "outputs": []
    },
    {
      "cell_type": "code",
      "source": [
        "results_df = results_df.dropna()"
      ],
      "metadata": {
        "id": "TISGx5d7Layw"
      },
      "execution_count": 25,
      "outputs": []
    },
    {
      "cell_type": "code",
      "source": [
        "def convert_to_array(s):\n",
        "    return [int(x) for x in s.split(',')]\n",
        "results_df['Fabric Type Label'] = results_df['Fabric Type Label'].apply(convert_to_array)\n",
        "results_df['Color Pattern Label'] = results_df['Color Pattern Label'].apply(convert_to_array)\n",
        "results_df['Shape Pattern Label'] = results_df['Shape Pattern Label'].apply(convert_to_array)"
      ],
      "metadata": {
        "id": "mRlFg4oc13ya",
        "colab": {
          "base_uri": "https://localhost:8080/"
        },
        "outputId": "c0e2af77-a186-4637-e6e4-0f76545aa362"
      },
      "execution_count": 26,
      "outputs": [
        {
          "output_type": "stream",
          "name": "stderr",
          "text": [
            "<ipython-input-26-a4aa0aeab517>:3: SettingWithCopyWarning: \n",
            "A value is trying to be set on a copy of a slice from a DataFrame.\n",
            "Try using .loc[row_indexer,col_indexer] = value instead\n",
            "\n",
            "See the caveats in the documentation: https://pandas.pydata.org/pandas-docs/stable/user_guide/indexing.html#returning-a-view-versus-a-copy\n",
            "  results_df['Fabric Type Label'] = results_df['Fabric Type Label'].apply(convert_to_array)\n",
            "<ipython-input-26-a4aa0aeab517>:4: SettingWithCopyWarning: \n",
            "A value is trying to be set on a copy of a slice from a DataFrame.\n",
            "Try using .loc[row_indexer,col_indexer] = value instead\n",
            "\n",
            "See the caveats in the documentation: https://pandas.pydata.org/pandas-docs/stable/user_guide/indexing.html#returning-a-view-versus-a-copy\n",
            "  results_df['Color Pattern Label'] = results_df['Color Pattern Label'].apply(convert_to_array)\n",
            "<ipython-input-26-a4aa0aeab517>:5: SettingWithCopyWarning: \n",
            "A value is trying to be set on a copy of a slice from a DataFrame.\n",
            "Try using .loc[row_indexer,col_indexer] = value instead\n",
            "\n",
            "See the caveats in the documentation: https://pandas.pydata.org/pandas-docs/stable/user_guide/indexing.html#returning-a-view-versus-a-copy\n",
            "  results_df['Shape Pattern Label'] = results_df['Shape Pattern Label'].apply(convert_to_array)\n"
          ]
        }
      ]
    },
    {
      "cell_type": "code",
      "source": [
        "results_df = results_df.reset_index(drop=True)\n",
        "results_df = results_df.dropna()"
      ],
      "metadata": {
        "id": "hS_rJ1v4Fffn"
      },
      "execution_count": 27,
      "outputs": []
    },
    {
      "cell_type": "code",
      "source": [
        "predict_shape_expanded = pd.DataFrame(results_df['Shape Pattern Label'].tolist(), columns=[f'predicted_shape_{i}' for i in range(12)])\n",
        "predict_fabric_expanded = pd.DataFrame(results_df['Color Pattern Label'].tolist(), columns=[f'predicted_color_{i}' for i in range(3)])\n",
        "predict_pattern_expanded = pd.DataFrame(results_df['Fabric Type Label'].tolist(), columns=[f'predicted_fabric_{i}' for i in range(3)])"
      ],
      "metadata": {
        "id": "fGbth36UFgQf"
      },
      "execution_count": 28,
      "outputs": []
    },
    {
      "cell_type": "code",
      "source": [
        "results_df = pd.concat([results_df, predict_shape_expanded, predict_fabric_expanded, predict_pattern_expanded], axis=1)"
      ],
      "metadata": {
        "id": "guRDiHBjGpDl"
      },
      "execution_count": 29,
      "outputs": []
    },
    {
      "cell_type": "code",
      "source": [
        "ground_truth_df = ground_truth_df.rename(columns={'filename': 'image_file'})"
      ],
      "metadata": {
        "id": "FquQvI8TU52n"
      },
      "execution_count": 31,
      "outputs": []
    },
    {
      "cell_type": "code",
      "source": [
        "validation_set = pd.merge(results_df, ground_truth_df, on='image_file', how='inner')"
      ],
      "metadata": {
        "id": "wb-8eX2kVJqE"
      },
      "execution_count": 32,
      "outputs": []
    },
    {
      "cell_type": "code",
      "source": [
        "validation_set = validation_set.dropna()"
      ],
      "metadata": {
        "id": "7mIsG-xjC_Ou"
      },
      "execution_count": 33,
      "outputs": []
    },
    {
      "cell_type": "markdown",
      "source": [
        "**Writing the file to send to evaluatio - this will contain predicted and actual labels for all the product attributesn**"
      ],
      "metadata": {
        "id": "uqo3b85Q5A3I"
      }
    },
    {
      "cell_type": "code",
      "source": [
        "validation_set.to_excel('gpt_4o_mini_00701_00900.xlsx', index=False)"
      ],
      "metadata": {
        "id": "X-HwkXBFXUJb"
      },
      "execution_count": 69,
      "outputs": []
    }
  ]
}